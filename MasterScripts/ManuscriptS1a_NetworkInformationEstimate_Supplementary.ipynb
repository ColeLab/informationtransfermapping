{
 "cells": [
  {
   "cell_type": "markdown",
   "metadata": {},
   "source": [
    "# ManuscriptS1a - Network-level information estimates (using RSA)\n",
    "\n",
    "## Analysis for Supplementary Figure 1B.\n",
    "\n",
    "\n",
    "## Master code for Ito et al., 2017¶\n",
    "#### Takuya Ito (takuya.ito@rutgers.edu)\n"
   ]
  },
  {
   "cell_type": "code",
   "execution_count": 119,
   "metadata": {
    "collapsed": false
   },
   "outputs": [
    {
     "name": "stdout",
     "output_type": "stream",
     "text": [
      "\n"
     ]
    }
   ],
   "source": [
    "import sys\n",
    "sys.path.append('utils/')\n",
    "import numpy as np\n",
    "import loadGlasser as lg\n",
    "import scripts3_functions as func\n",
    "import scipy.stats as stats\n",
    "from IPython.display import display, HTML\n",
    "import matplotlib.pyplot as plt\n",
    "import statsmodels.sandbox.stats.multicomp as mc\n",
    "import sys\n",
    "import multiprocessing as mp\n",
    "import pandas\n",
    "%matplotlib inline\n",
    "import permutationTesting as pt\n",
    "import os\n",
    "os.environ['OMP_NUM_THREADS'] = str(1)"
   ]
  },
  {
   "cell_type": "markdown",
   "metadata": {},
   "source": [
    "#### Basic parameters"
   ]
  },
  {
   "cell_type": "code",
   "execution_count": 120,
   "metadata": {
    "collapsed": false
   },
   "outputs": [],
   "source": [
    "# Set basic parameters\n",
    "basedir = '/projects2/ModalityControl2/'\n",
    "datadir = basedir + 'data/'\n",
    "resultsdir = datadir + 'resultsMaster/'\n",
    "runLength = 4648\n",
    "\n",
    "subjNums = ['032', '033', '037', '038', '039', '045', \n",
    "            '013', '014', '016', '017', '018', '021', \n",
    "            '023', '024', '025', '026', '027', '031', \n",
    "            '035', '046', '042', '028', '048', '053', \n",
    "            '040', '049', '057', '062', '050', '030', '047', '034']\n",
    "\n",
    "glasserparcels = lg.loadGlasserParcels()\n",
    "networkdef = lg.loadGlasserNetworks()\n",
    "networkmappings = {'fpn':7, 'vis':1, 'smn':2, 'con':3, 'dmn':6, 'aud1':8, 'aud2':9, 'dan':11}\n",
    "# Force aud2 key to be the same as aud1\n",
    "aud2_ind = np.where(networkdef==networkmappings['aud2'])[0]\n",
    "networkdef[aud2_ind] = networkmappings['aud1']\n",
    "# Define new network mappings with no aud1/aud2 distinction\n",
    "networkmappings = {'fpn':7, 'vis':1, 'smn':2, 'con':3, 'dmn':6, 'aud':8, 'dan':11}"
   ]
  },
  {
   "cell_type": "markdown",
   "metadata": {},
   "source": [
    "#### Set up basic functions"
   ]
  },
  {
   "cell_type": "code",
   "execution_count": 121,
   "metadata": {
    "collapsed": true
   },
   "outputs": [],
   "source": [
    "def loadBetas(subj, net='all'):\n",
    "    \"\"\"Loads in task betas\"\"\"\n",
    "    datafile = resultsdir + 'glmMiniblockBetaSeries/' + subj + '_miniblock_taskBetas_Glasser.csv'\n",
    "    betas = np.loadtxt(datafile, delimiter=',')\n",
    "    betas = betas[:,17:]\n",
    "    if net == 'all':\n",
    "        return betas\n",
    "    else:\n",
    "        net_ind = np.where(networkdef==net)[0]\n",
    "        return betas[net_ind,:].T\n",
    "    \n",
    "def setupMatrix(subj,ruledim,net):\n",
    "    \"\"\"\n",
    "    Sets up basic SVM Matrix for a classification of a particular rule dimension and network\n",
    "    \"\"\"\n",
    "    \n",
    "    betas = loadBetas(subj,net=net)\n",
    "    rules, rulesmb = func.importRuleTimingsV3(subj,ruledim)\n",
    "    \n",
    "    svm_mat = np.zeros((betas.shape))\n",
    "    samplecount = 0\n",
    "    labels = []\n",
    "    for rule in rulesmb:\n",
    "        rule_ind = rulesmb[rule].keys()\n",
    "        sampleend = samplecount + len(rule_ind)\n",
    "        svm_mat[samplecount:sampleend,:] = betas[rule_ind,:]\n",
    "        labels.extend(np.ones(len(rule_ind),)*rule)\n",
    "        samplecount += len(rule_ind)\n",
    "        \n",
    "    labels = np.asarray(labels)\n",
    "    \n",
    "    return svm_mat, labels\n",
    "\n"
   ]
  },
  {
   "cell_type": "markdown",
   "metadata": {},
   "source": [
    "# Set up functions for information estimation (RSA instead of SVM decoding)"
   ]
  },
  {
   "cell_type": "code",
   "execution_count": 122,
   "metadata": {
    "collapsed": true
   },
   "outputs": [],
   "source": [
    "def rsaCV(svm_mat,labels,ruledim):\n",
    "    \"\"\"Runs a leave-4-out CV for a 4 way  classification\"\"\"\n",
    "        \n",
    "    cvfolds = []\n",
    "    # 32 folds, if we do a leave 4 out for 128 total miniblocks\n",
    "    # Want to leave a single block from each rule from each CV\n",
    "    for rule in np.unique(labels):\n",
    "        cvfolds.append(np.where(labels==rule)[0])\n",
    "    cvfolds = np.asarray(cvfolds)\n",
    "    \n",
    "    # Number of CVs is columns\n",
    "    ncvs = cvfolds.shape[1]\n",
    "    nrules = cvfolds.shape[0]\n",
    "    # Randomly sample cross-validation folds\n",
    "    for i in range(nrules): np.random.shuffle(cvfolds[i,:])\n",
    "    \n",
    "    corr_rho_cvs = []\n",
    "    err_rho_cvs = []\n",
    "    for cv in range(ncvs):\n",
    "        # Select a test set from the CV Fold matrix\n",
    "        test_ind = cvfolds[:,cv].copy()\n",
    "        # Delete the CV included from the train set\n",
    "        train_ind = np.delete(cvfolds,cv,axis=1)\n",
    "        \n",
    "        # Identify the train and test sets\n",
    "        svm_train = svm_mat[np.reshape(train_ind,-1),:]\n",
    "        svm_test = svm_mat[test_ind,:]\n",
    "        \n",
    "#         ## Feature-wise normalization (computed by hand)\n",
    "#         # Compute mean of train set\n",
    "#         train_mean = np.mean(svm_train,axis=0)\n",
    "#         train_mean.shape = (1,len(train_mean))\n",
    "#         # Compute std of train set\n",
    "#         train_std = np.std(svm_train,axis=0)\n",
    "#         train_std.shape = (1,len(train_std))\n",
    "#         # Normalize train set\n",
    "#         svm_train = np.divide((svm_train - train_mean),train_std)\n",
    "#         # Normalize test set with trainset mean and std to avoid circularity\n",
    "#         svm_test = (svm_test - train_mean)/train_std\n",
    "        \n",
    "        prototype = {}\n",
    "        # Construct RSA prototypes\n",
    "        for rule in range(nrules):\n",
    "            prototype_ind = np.reshape(train_ind[rule,:],-1)\n",
    "            prototype[rule] = np.mean(svm_mat[prototype_ind],axis=0)\n",
    "            \n",
    "        corr_rho = []\n",
    "        err_rho = []\n",
    "        for rule1 in range(nrules):\n",
    "            for rule2 in range(nrules):\n",
    "                r = stats.spearmanr(prototype[rule1],svm_test[rule2,:])[0]\n",
    "                r = np.arctanh(r)\n",
    "                if rule1==rule2: \n",
    "                    corr_rho.append(r)\n",
    "                else:\n",
    "                    err_rho.append(r)\n",
    "        \n",
    "        corr_rho_cvs.append(np.mean(corr_rho))\n",
    "        err_rho_cvs.append(np.mean(err_rho))\n",
    "\n",
    "        \n",
    "\n",
    "    return np.mean(corr_rho_cvs), np.mean(err_rho_cvs)\n",
    "        \n",
    "    \n",
    "def subjRSACV((subj,ruledim,net)):\n",
    "    svm_mat, labels = setupMatrix(subj,ruledim,net)\n",
    "    # Demean each sample\n",
    "    svmmean = np.mean(svm_mat,axis=1)\n",
    "    svmmean.shape = (len(svmmean),1)\n",
    "    svm_mat = svm_mat - svmmean\n",
    "    \n",
    "#     svm_mat = preprocessing.scale(svm_mat,axis=0)\n",
    "    \n",
    "    corr_rho, err_rho = rsaCV(svm_mat, labels, ruledim)\n",
    "    diff_rho = corr_rho - err_rho\n",
    "\n",
    "#     diff_rho = np.arctanh(corr_rho) - np.arctanh(err_rho)\n",
    "#     diff_rho = np.arctanh(corr_rho) - np.arctanh(err_rho)\n",
    "    return corr_rho, err_rho, diff_rho\n"
   ]
  },
  {
   "cell_type": "code",
   "execution_count": 123,
   "metadata": {
    "collapsed": true
   },
   "outputs": [],
   "source": [
    "netkeys = {0:'fpn', 1:'dan', 2:'con', 3:'dmn', 4:'vis', 5:'aud', 6:'smn'}"
   ]
  },
  {
   "cell_type": "code",
   "execution_count": 124,
   "metadata": {
    "collapsed": false,
    "scrolled": true
   },
   "outputs": [
    {
     "name": "stdout",
     "output_type": "stream",
     "text": [
      "Running logic\n",
      "Running sensory\n",
      "Running motor\n"
     ]
    }
   ],
   "source": [
    "ruledims = ['logic','sensory','motor']\n",
    "corr_rho = {}\n",
    "err_rho = {}\n",
    "diff_rho = {}\n",
    "avg_acc = {}\n",
    "for ruledim in ruledims:\n",
    "    avg_acc[ruledim] = {}\n",
    "    corr_rho[ruledim] = np.zeros((len(netkeys),len(subjNums)))\n",
    "    err_rho[ruledim] = np.zeros((len(netkeys),len(subjNums)))\n",
    "    diff_rho[ruledim] = np.zeros((len(netkeys),len(subjNums)))\n",
    "    print 'Running', ruledim\n",
    "    for net in netkeys.keys():\n",
    "#         print 'Running network', net\n",
    "        inputs = []\n",
    "        for subj in subjNums: inputs.append((subj,ruledim,networkmappings[netkeys[net]]))\n",
    "            \n",
    "        pool = mp.Pool(processes=11)\n",
    "        results = pool.map_async(subjRSACV,inputs).get()\n",
    "        pool.close()\n",
    "        pool.join()\n",
    "        \n",
    "        scount = 0\n",
    "        for result in results:\n",
    "            tmp_corr, tmp_err, tmp_diff = result\n",
    "            corr_rho[ruledim][net,scount] = tmp_corr\n",
    "            err_rho[ruledim][net,scount] = tmp_err\n",
    "            diff_rho[ruledim][net,scount] = tmp_diff\n",
    "            scount += 1\n",
    "        avg_acc[ruledim][net] = np.mean(diff_rho[ruledim][net])\n",
    "\n"
   ]
  },
  {
   "cell_type": "markdown",
   "metadata": {},
   "source": [
    "## Run statistics with FDR-correction"
   ]
  },
  {
   "cell_type": "code",
   "execution_count": 125,
   "metadata": {
    "collapsed": false
   },
   "outputs": [],
   "source": [
    "# Compute group stats\n",
    "chance = 0.0\n",
    "results_dict_fdr = {}\n",
    "for ruledim in ruledims:\n",
    "    results_dict_fdr[ruledim] = {}\n",
    "    for net in netkeys.keys(): results_dict_fdr[ruledim][netkeys[net]] = {}\n",
    "    pvals = []\n",
    "    for net in netkeys.keys():\n",
    "        results_dict_fdr[ruledim][netkeys[net]]['Accuracy'] = str(round(np.mean(avg_acc[ruledim][net]),3))\n",
    "        t, p = stats.ttest_1samp(diff_rho[ruledim][net],chance)\n",
    "        results_dict_fdr[ruledim][netkeys[net]]['T-stats'] = t\n",
    "        results_dict_fdr[ruledim][netkeys[net]]['P-values'] = p\n",
    "        pvals.append(p)\n",
    "        \n",
    "    qvals = mc.fdrcorrection0(pvals)[1]\n",
    "    qcount = 0\n",
    "    for net in netkeys.keys():\n",
    "        results_dict_fdr[ruledim][netkeys[net]]['Q-values'] = qvals[qcount]\n",
    "        qcount += 1"
   ]
  },
  {
   "cell_type": "markdown",
   "metadata": {},
   "source": [
    "#### Show results as dataframe"
   ]
  },
  {
   "cell_type": "code",
   "execution_count": 126,
   "metadata": {
    "collapsed": false
   },
   "outputs": [
    {
     "name": "stdout",
     "output_type": "stream",
     "text": [
      "Dataframe for logic classification\n"
     ]
    },
    {
     "data": {
      "text/html": [
       "<div>\n",
       "<table border=\"1\" class=\"dataframe\">\n",
       "  <thead>\n",
       "    <tr style=\"text-align: right;\">\n",
       "      <th></th>\n",
       "      <th>aud</th>\n",
       "      <th>con</th>\n",
       "      <th>dan</th>\n",
       "      <th>dmn</th>\n",
       "      <th>fpn</th>\n",
       "      <th>smn</th>\n",
       "      <th>vis</th>\n",
       "    </tr>\n",
       "  </thead>\n",
       "  <tbody>\n",
       "    <tr>\n",
       "      <th>Accuracy</th>\n",
       "      <td>0.019</td>\n",
       "      <td>0.029</td>\n",
       "      <td>0.024</td>\n",
       "      <td>0.029</td>\n",
       "      <td>0.034</td>\n",
       "      <td>0.007</td>\n",
       "      <td>0.015</td>\n",
       "    </tr>\n",
       "    <tr>\n",
       "      <th>P-values</th>\n",
       "      <td>0.000720487</td>\n",
       "      <td>1.95845e-06</td>\n",
       "      <td>0.000327489</td>\n",
       "      <td>2.17409e-06</td>\n",
       "      <td>1.53998e-07</td>\n",
       "      <td>0.23322</td>\n",
       "      <td>0.00317303</td>\n",
       "    </tr>\n",
       "    <tr>\n",
       "      <th>Q-values</th>\n",
       "      <td>0.00100868</td>\n",
       "      <td>5.07287e-06</td>\n",
       "      <td>0.000573107</td>\n",
       "      <td>5.07287e-06</td>\n",
       "      <td>1.07798e-06</td>\n",
       "      <td>0.23322</td>\n",
       "      <td>0.00370187</td>\n",
       "    </tr>\n",
       "    <tr>\n",
       "      <th>T-stats</th>\n",
       "      <td>3.75381</td>\n",
       "      <td>5.83596</td>\n",
       "      <td>4.03927</td>\n",
       "      <td>5.79937</td>\n",
       "      <td>6.73616</td>\n",
       "      <td>1.21585</td>\n",
       "      <td>3.19901</td>\n",
       "    </tr>\n",
       "  </tbody>\n",
       "</table>\n",
       "</div>"
      ],
      "text/plain": [
       "                  aud          con          dan          dmn          fpn  \\\n",
       "Accuracy        0.019        0.029        0.024        0.029        0.034   \n",
       "P-values  0.000720487  1.95845e-06  0.000327489  2.17409e-06  1.53998e-07   \n",
       "Q-values   0.00100868  5.07287e-06  0.000573107  5.07287e-06  1.07798e-06   \n",
       "T-stats       3.75381      5.83596      4.03927      5.79937      6.73616   \n",
       "\n",
       "              smn         vis  \n",
       "Accuracy    0.007       0.015  \n",
       "P-values  0.23322  0.00317303  \n",
       "Q-values  0.23322  0.00370187  \n",
       "T-stats   1.21585     3.19901  "
      ]
     },
     "metadata": {},
     "output_type": "display_data"
    },
    {
     "name": "stdout",
     "output_type": "stream",
     "text": [
      "Dataframe for sensory classification\n"
     ]
    },
    {
     "data": {
      "text/html": [
       "<div>\n",
       "<table border=\"1\" class=\"dataframe\">\n",
       "  <thead>\n",
       "    <tr style=\"text-align: right;\">\n",
       "      <th></th>\n",
       "      <th>aud</th>\n",
       "      <th>con</th>\n",
       "      <th>dan</th>\n",
       "      <th>dmn</th>\n",
       "      <th>fpn</th>\n",
       "      <th>smn</th>\n",
       "      <th>vis</th>\n",
       "    </tr>\n",
       "  </thead>\n",
       "  <tbody>\n",
       "    <tr>\n",
       "      <th>Accuracy</th>\n",
       "      <td>0.004</td>\n",
       "      <td>0.012</td>\n",
       "      <td>0.024</td>\n",
       "      <td>0.01</td>\n",
       "      <td>0.025</td>\n",
       "      <td>-0.004</td>\n",
       "      <td>0.054</td>\n",
       "    </tr>\n",
       "    <tr>\n",
       "      <th>P-values</th>\n",
       "      <td>0.155311</td>\n",
       "      <td>0.000226706</td>\n",
       "      <td>4.1589e-07</td>\n",
       "      <td>0.0374678</td>\n",
       "      <td>0.000257061</td>\n",
       "      <td>0.25929</td>\n",
       "      <td>1.78973e-06</td>\n",
       "    </tr>\n",
       "    <tr>\n",
       "      <th>Q-values</th>\n",
       "      <td>0.181196</td>\n",
       "      <td>0.000449857</td>\n",
       "      <td>2.91123e-06</td>\n",
       "      <td>0.052455</td>\n",
       "      <td>0.000449857</td>\n",
       "      <td>0.25929</td>\n",
       "      <td>6.26405e-06</td>\n",
       "    </tr>\n",
       "    <tr>\n",
       "      <th>T-stats</th>\n",
       "      <td>1.45649</td>\n",
       "      <td>4.17085</td>\n",
       "      <td>6.38192</td>\n",
       "      <td>2.17391</td>\n",
       "      <td>4.12599</td>\n",
       "      <td>-1.14913</td>\n",
       "      <td>5.86753</td>\n",
       "    </tr>\n",
       "  </tbody>\n",
       "</table>\n",
       "</div>"
      ],
      "text/plain": [
       "               aud          con          dan        dmn          fpn      smn  \\\n",
       "Accuracy     0.004        0.012        0.024       0.01        0.025   -0.004   \n",
       "P-values  0.155311  0.000226706   4.1589e-07  0.0374678  0.000257061  0.25929   \n",
       "Q-values  0.181196  0.000449857  2.91123e-06   0.052455  0.000449857  0.25929   \n",
       "T-stats    1.45649      4.17085      6.38192    2.17391      4.12599 -1.14913   \n",
       "\n",
       "                  vis  \n",
       "Accuracy        0.054  \n",
       "P-values  1.78973e-06  \n",
       "Q-values  6.26405e-06  \n",
       "T-stats       5.86753  "
      ]
     },
     "metadata": {},
     "output_type": "display_data"
    },
    {
     "name": "stdout",
     "output_type": "stream",
     "text": [
      "Dataframe for motor classification\n"
     ]
    },
    {
     "data": {
      "text/html": [
       "<div>\n",
       "<table border=\"1\" class=\"dataframe\">\n",
       "  <thead>\n",
       "    <tr style=\"text-align: right;\">\n",
       "      <th></th>\n",
       "      <th>aud</th>\n",
       "      <th>con</th>\n",
       "      <th>dan</th>\n",
       "      <th>dmn</th>\n",
       "      <th>fpn</th>\n",
       "      <th>smn</th>\n",
       "      <th>vis</th>\n",
       "    </tr>\n",
       "  </thead>\n",
       "  <tbody>\n",
       "    <tr>\n",
       "      <th>Accuracy</th>\n",
       "      <td>0.007</td>\n",
       "      <td>0.017</td>\n",
       "      <td>0.017</td>\n",
       "      <td>0.009</td>\n",
       "      <td>0.004</td>\n",
       "      <td>0.203</td>\n",
       "      <td>0.005</td>\n",
       "    </tr>\n",
       "    <tr>\n",
       "      <th>P-values</th>\n",
       "      <td>0.020813</td>\n",
       "      <td>2.19242e-05</td>\n",
       "      <td>9.09449e-06</td>\n",
       "      <td>0.0352807</td>\n",
       "      <td>0.225402</td>\n",
       "      <td>1.04e-12</td>\n",
       "      <td>0.0771277</td>\n",
       "    </tr>\n",
       "    <tr>\n",
       "      <th>Q-values</th>\n",
       "      <td>0.0364228</td>\n",
       "      <td>5.11564e-05</td>\n",
       "      <td>3.18307e-05</td>\n",
       "      <td>0.049393</td>\n",
       "      <td>0.225402</td>\n",
       "      <td>7.28002e-12</td>\n",
       "      <td>0.0899823</td>\n",
       "    </tr>\n",
       "    <tr>\n",
       "      <th>T-stats</th>\n",
       "      <td>2.4356</td>\n",
       "      <td>4.99282</td>\n",
       "      <td>5.29965</td>\n",
       "      <td>2.20139</td>\n",
       "      <td>1.23693</td>\n",
       "      <td>11.4951</td>\n",
       "      <td>1.82839</td>\n",
       "    </tr>\n",
       "  </tbody>\n",
       "</table>\n",
       "</div>"
      ],
      "text/plain": [
       "                aud          con          dan        dmn       fpn  \\\n",
       "Accuracy      0.007        0.017        0.017      0.009     0.004   \n",
       "P-values   0.020813  2.19242e-05  9.09449e-06  0.0352807  0.225402   \n",
       "Q-values  0.0364228  5.11564e-05  3.18307e-05   0.049393  0.225402   \n",
       "T-stats      2.4356      4.99282      5.29965    2.20139   1.23693   \n",
       "\n",
       "                  smn        vis  \n",
       "Accuracy        0.203      0.005  \n",
       "P-values     1.04e-12  0.0771277  \n",
       "Q-values  7.28002e-12  0.0899823  \n",
       "T-stats       11.4951    1.82839  "
      ]
     },
     "metadata": {},
     "output_type": "display_data"
    }
   ],
   "source": [
    "results_dframe_fdr = {}\n",
    "for ruledim in ruledims:\n",
    "    print 'Dataframe for', ruledim, 'classification'\n",
    "    results_dframe_fdr[ruledim] = pandas.DataFrame(data=results_dict_fdr[ruledim])\n",
    "    display(results_dframe_fdr[ruledim])"
   ]
  },
  {
   "cell_type": "code",
   "execution_count": 127,
   "metadata": {
    "collapsed": false
   },
   "outputs": [
    {
     "data": {
      "image/png": "[encoded data removed]",
      "text/plain": [
       "<matplotlib.figure.Figure at 0x7fcac818fb50>"
      ]
     },
     "metadata": {},
     "output_type": "display_data"
    }
   ],
   "source": [
    "#### Compute statistics for bar plot\n",
    "bar_avgs = {}\n",
    "bar_sems = {}\n",
    "bar_avg_all = {}\n",
    "for net in netkeys.keys(): bar_avg_all[net] = np.zeros((len(ruledims),len(subjNums)))\n",
    "\n",
    "rulecount = 0\n",
    "for ruledim in ruledims:\n",
    "    bar_avgs[ruledim] = {}\n",
    "    bar_sems[ruledim] = {}\n",
    "    for net in netkeys.keys():\n",
    "        bar_avgs[ruledim][net] = np.mean(diff_rho[ruledim][net])\n",
    "        bar_sems[ruledim][net] = np.std(diff_rho[ruledim][net])/np.sqrt(len(subjNums))\n",
    "        bar_avg_all[net][rulecount,:] = diff_rho[ruledim][net]\n",
    "    rulecount += 1\n",
    "        \n",
    "bar_sem_all = {}\n",
    "for net in netkeys.keys():\n",
    "    meanacc = np.mean(bar_avg_all[net],axis=0)\n",
    "    bar_avg_all[net] = np.mean(meanacc)\n",
    "    bar_sem_all[net] = np.std(meanacc)/np.sqrt(len(subjNums))\n",
    "\n",
    "##### Generate figures\n",
    "width=0.25\n",
    "width=.265\n",
    "networks = netkeys.keys()\n",
    "nbars = len(networks)\n",
    "fig = plt.figure()\n",
    "ax = fig.add_subplot(111)\n",
    "rects = {}\n",
    "widthcount = 0\n",
    "colors = ['b','g','r']\n",
    "colorcount = 0\n",
    "for ruledim in ruledims:\n",
    "    rects[ruledim] = ax.bar(np.arange(nbars)+widthcount, bar_avgs[ruledim].values(), width,align='center',\n",
    "                     yerr=bar_sems[ruledim].values(), color=colors[colorcount], error_kw=dict(ecolor='black'))\n",
    "    widthcount += width\n",
    "    colorcount += 1\n",
    "    \n",
    "ax.set_title('Network Information Estimation of CPRO rules (FDR)',\n",
    "             y=1.04, fontsize=16)\n",
    "ax.set_ylabel('Match V. Mismatch Difference (Rho)',fontsize=12)\n",
    "ax.set_xlabel('Rule types by Networks', fontsize=12)\n",
    "ax.set_xticks(np.arange(nbars)+width)\n",
    "ax.set_xticklabels(netkeys.values(),rotation=-45)\n",
    "vmax=0.07\n",
    "ax.set_ylim([0,vmax])\n",
    "\n",
    "plt.legend((rects['logic'], rects['sensory'], rects['motor']),\n",
    "           ('Logic', 'Sensory', 'Motor'), loc=((1.08,.65)))\n",
    "\n",
    "## Add asterisks\n",
    "def autolabel(rects,df,ruledim):\n",
    "    # attach some text labels\n",
    "    netcount = 0\n",
    "    for rect in rects:\n",
    "        height = rect.get_height()\n",
    "        # Decide where to put the asterisk\n",
    "        if height > vmax: \n",
    "            yax = vmax - .005\n",
    "        else:\n",
    "            yax = height + .01\n",
    "            \n",
    "        # Slightly move this asterisk since it's in the way\n",
    "        if ruledim=='sensory' and netkeys[netcount]=='dan': yax -= .0025\n",
    "            \n",
    "        # Retrive q-value and assign asterisk accordingly\n",
    "        q = df[netkeys[netcount]]['Q-values']\n",
    "        if q > .05: asterisk=''\n",
    "        if q < .05: asterisk='*'\n",
    "        if q < .01: asterisk='**'\n",
    "        if q < .001: asterisk='***'\n",
    "            \n",
    "        # Label bar\n",
    "        ax.text(rect.get_x() + rect.get_width()/2., yax,\n",
    "                asterisk, ha='center', va='bottom', fontsize=8)\n",
    "        # Go to next network\n",
    "        netcount += 1\n",
    "        \n",
    "for ruledim in ruledims:\n",
    "    autolabel(rects[ruledim],results_dframe_fdr[ruledim],ruledim)\n",
    "# autolabel(rects2)\n",
    "\n",
    "plt.tight_layout()\n",
    "# plt.savefig('FigS1a_NetworkRSA_InformationEstimate.pdf')\n"
   ]
  },
  {
   "cell_type": "markdown",
   "metadata": {},
   "source": [
    "# Run statistics with FWER-correction (Permutation testing)"
   ]
  },
  {
   "cell_type": "code",
   "execution_count": 128,
   "metadata": {
    "collapsed": false
   },
   "outputs": [],
   "source": [
    "# Compute group stats\n",
    "chance = 0.0\n",
    "results_dict_fwe = {}\n",
    "for ruledim in ruledims:\n",
    "    results_dict_fwe[ruledim] = {}\n",
    "    for net in netkeys.keys(): results_dict_fwe[ruledim][netkeys[net]] = {}\n",
    "    pvals = []\n",
    "    for net in netkeys.keys():\n",
    "        results_dict_fwe[ruledim][netkeys[net]]['Accuracy'] = str(round(np.mean(avg_acc[ruledim][net]),3))\n",
    "        t, p = pt.permutationFWE(diff_rho[ruledim],nullmean=0,permutations=10000,nproc=15)\n",
    "#         t, p = stats.ttest_1samp(diff_rho[ruledim][net],chance)\n",
    "        results_dict_fwe[ruledim][netkeys[net]]['T-stats'] = t[net]\n",
    "        results_dict_fwe[ruledim][netkeys[net]]['P-FWE'] = 1.0 - p[net]\n",
    "        "
   ]
  },
  {
   "cell_type": "markdown",
   "metadata": {},
   "source": [
    "#### Show results as dataframe"
   ]
  },
  {
   "cell_type": "code",
   "execution_count": 129,
   "metadata": {
    "collapsed": false
   },
   "outputs": [
    {
     "name": "stdout",
     "output_type": "stream",
     "text": [
      "Dataframe for logic classification\n"
     ]
    },
    {
     "data": {
      "text/html": [
       "<div>\n",
       "<table border=\"1\" class=\"dataframe\">\n",
       "  <thead>\n",
       "    <tr style=\"text-align: right;\">\n",
       "      <th></th>\n",
       "      <th>aud</th>\n",
       "      <th>con</th>\n",
       "      <th>dan</th>\n",
       "      <th>dmn</th>\n",
       "      <th>fpn</th>\n",
       "      <th>smn</th>\n",
       "      <th>vis</th>\n",
       "    </tr>\n",
       "  </thead>\n",
       "  <tbody>\n",
       "    <tr>\n",
       "      <th>Accuracy</th>\n",
       "      <td>0.019</td>\n",
       "      <td>0.029</td>\n",
       "      <td>0.024</td>\n",
       "      <td>0.029</td>\n",
       "      <td>0.034</td>\n",
       "      <td>0.007</td>\n",
       "      <td>0.015</td>\n",
       "    </tr>\n",
       "    <tr>\n",
       "      <th>P-FWE</th>\n",
       "      <td>0.0017</td>\n",
       "      <td>0</td>\n",
       "      <td>0.0008</td>\n",
       "      <td>0</td>\n",
       "      <td>0</td>\n",
       "      <td>0.5858</td>\n",
       "      <td>0.0068</td>\n",
       "    </tr>\n",
       "    <tr>\n",
       "      <th>T-stats</th>\n",
       "      <td>3.75381</td>\n",
       "      <td>5.83596</td>\n",
       "      <td>4.03927</td>\n",
       "      <td>5.79937</td>\n",
       "      <td>6.73616</td>\n",
       "      <td>1.21585</td>\n",
       "      <td>3.19901</td>\n",
       "    </tr>\n",
       "  </tbody>\n",
       "</table>\n",
       "</div>"
      ],
      "text/plain": [
       "              aud      con      dan      dmn      fpn      smn      vis\n",
       "Accuracy    0.019    0.029    0.024    0.029    0.034    0.007    0.015\n",
       "P-FWE      0.0017        0   0.0008        0        0   0.5858   0.0068\n",
       "T-stats   3.75381  5.83596  4.03927  5.79937  6.73616  1.21585  3.19901"
      ]
     },
     "metadata": {},
     "output_type": "display_data"
    },
    {
     "name": "stdout",
     "output_type": "stream",
     "text": [
      "Dataframe for sensory classification\n"
     ]
    },
    {
     "data": {
      "text/html": [
       "<div>\n",
       "<table border=\"1\" class=\"dataframe\">\n",
       "  <thead>\n",
       "    <tr style=\"text-align: right;\">\n",
       "      <th></th>\n",
       "      <th>aud</th>\n",
       "      <th>con</th>\n",
       "      <th>dan</th>\n",
       "      <th>dmn</th>\n",
       "      <th>fpn</th>\n",
       "      <th>smn</th>\n",
       "      <th>vis</th>\n",
       "    </tr>\n",
       "  </thead>\n",
       "  <tbody>\n",
       "    <tr>\n",
       "      <th>Accuracy</th>\n",
       "      <td>0.004</td>\n",
       "      <td>0.012</td>\n",
       "      <td>0.024</td>\n",
       "      <td>0.01</td>\n",
       "      <td>0.025</td>\n",
       "      <td>-0.004</td>\n",
       "      <td>0.054</td>\n",
       "    </tr>\n",
       "    <tr>\n",
       "      <th>P-FWE</th>\n",
       "      <td>0.4293</td>\n",
       "      <td>0.0006</td>\n",
       "      <td>0</td>\n",
       "      <td>0.1195</td>\n",
       "      <td>0.0003</td>\n",
       "      <td>1</td>\n",
       "      <td>0</td>\n",
       "    </tr>\n",
       "    <tr>\n",
       "      <th>T-stats</th>\n",
       "      <td>1.45649</td>\n",
       "      <td>4.17085</td>\n",
       "      <td>6.38192</td>\n",
       "      <td>2.17391</td>\n",
       "      <td>4.12599</td>\n",
       "      <td>-1.14913</td>\n",
       "      <td>5.86753</td>\n",
       "    </tr>\n",
       "  </tbody>\n",
       "</table>\n",
       "</div>"
      ],
      "text/plain": [
       "              aud      con      dan      dmn      fpn      smn      vis\n",
       "Accuracy    0.004    0.012    0.024     0.01    0.025   -0.004    0.054\n",
       "P-FWE      0.4293   0.0006        0   0.1195   0.0003        1        0\n",
       "T-stats   1.45649  4.17085  6.38192  2.17391  4.12599 -1.14913  5.86753"
      ]
     },
     "metadata": {},
     "output_type": "display_data"
    },
    {
     "name": "stdout",
     "output_type": "stream",
     "text": [
      "Dataframe for motor classification\n"
     ]
    },
    {
     "data": {
      "text/html": [
       "<div>\n",
       "<table border=\"1\" class=\"dataframe\">\n",
       "  <thead>\n",
       "    <tr style=\"text-align: right;\">\n",
       "      <th></th>\n",
       "      <th>aud</th>\n",
       "      <th>con</th>\n",
       "      <th>dan</th>\n",
       "      <th>dmn</th>\n",
       "      <th>fpn</th>\n",
       "      <th>smn</th>\n",
       "      <th>vis</th>\n",
       "    </tr>\n",
       "  </thead>\n",
       "  <tbody>\n",
       "    <tr>\n",
       "      <th>Accuracy</th>\n",
       "      <td>0.007</td>\n",
       "      <td>0.017</td>\n",
       "      <td>0.017</td>\n",
       "      <td>0.009</td>\n",
       "      <td>0.004</td>\n",
       "      <td>0.203</td>\n",
       "      <td>0.005</td>\n",
       "    </tr>\n",
       "    <tr>\n",
       "      <th>P-FWE</th>\n",
       "      <td>0.0728</td>\n",
       "      <td>0.0002</td>\n",
       "      <td>0</td>\n",
       "      <td>0.1203</td>\n",
       "      <td>0.5758</td>\n",
       "      <td>0</td>\n",
       "      <td>0.243</td>\n",
       "    </tr>\n",
       "    <tr>\n",
       "      <th>T-stats</th>\n",
       "      <td>2.4356</td>\n",
       "      <td>4.99282</td>\n",
       "      <td>5.29965</td>\n",
       "      <td>2.20139</td>\n",
       "      <td>1.23693</td>\n",
       "      <td>11.4951</td>\n",
       "      <td>1.82839</td>\n",
       "    </tr>\n",
       "  </tbody>\n",
       "</table>\n",
       "</div>"
      ],
      "text/plain": [
       "             aud      con      dan      dmn      fpn      smn      vis\n",
       "Accuracy   0.007    0.017    0.017    0.009    0.004    0.203    0.005\n",
       "P-FWE     0.0728   0.0002        0   0.1203   0.5758        0    0.243\n",
       "T-stats   2.4356  4.99282  5.29965  2.20139  1.23693  11.4951  1.82839"
      ]
     },
     "metadata": {},
     "output_type": "display_data"
    }
   ],
   "source": [
    "results_dframe_fwe = {}\n",
    "for ruledim in ruledims:\n",
    "    print 'Dataframe for', ruledim, 'classification'\n",
    "    results_dframe_fwe[ruledim] = pandas.DataFrame(data=results_dict_fwe[ruledim])\n",
    "    display(results_dframe_fwe[ruledim])\n",
    "    \n"
   ]
  },
  {
   "cell_type": "markdown",
   "metadata": {},
   "source": [
    "### Manually compute average significant and non-significant t-stats for manuscript"
   ]
  },
  {
   "cell_type": "code",
   "execution_count": 130,
   "metadata": {
    "collapsed": false
   },
   "outputs": [
    {
     "data": {
      "text/plain": [
       "['P-FWE', 'T-stats', 'Accuracy']"
      ]
     },
     "execution_count": 130,
     "metadata": {},
     "output_type": "execute_result"
    }
   ],
   "source": [
    "results_dict_fwe[ruledim]['fpn'].keys()"
   ]
  },
  {
   "cell_type": "code",
   "execution_count": 131,
   "metadata": {
    "collapsed": false
   },
   "outputs": [
    {
     "name": "stdout",
     "output_type": "stream",
     "text": [
      "Average significant IE for logic : 0.025\n",
      "Average significant T-stats for logic : 4.89392889673\n",
      "Max significant p-value for logic : 0.0068\n",
      "#################\n",
      "Average nonsignificant IE for logic : 0.007\n",
      "Average nonsignificant T-stats for logic : 1.21585023666\n",
      "Min nonsignificant p-value for logic : 0.5858\n",
      "\n",
      "\n",
      "Average significant IE for sensory : 0.02875\n",
      "Average significant T-stats for sensory : 5.13657314649\n",
      "Max significant p-value for sensory : 0.0006\n",
      "#################\n",
      "Average nonsignificant IE for sensory : 0.00333333333333\n",
      "Average nonsignificant T-stats for sensory : 0.827091269676\n",
      "Min nonsignificant p-value for sensory : 0.1195\n",
      "\n",
      "\n",
      "Average significant IE for motor : 0.079\n",
      "Average significant T-stats for motor : 7.26251804999\n",
      "Max significant p-value for motor : 0.0002\n",
      "#################\n",
      "Average nonsignificant IE for motor : 0.00625\n",
      "Average nonsignificant T-stats for motor : 1.92557722121\n",
      "Min nonsignificant p-value for motor : 0.0728\n",
      "\n",
      "\n"
     ]
    }
   ],
   "source": [
    "ie = {}\n",
    "t_avg = {}\n",
    "p_avg = {}\n",
    "for ruledim in ruledims:\n",
    "    ie[ruledim] = {'sig':[], 'nonsig':[]}\n",
    "    t_avg[ruledim] = {'sig':[], 'nonsig':[]}\n",
    "    p_avg[ruledim] = {'sig':[], 'nonsig':[]}\n",
    "    for net in results_dict_fwe[ruledim].keys():\n",
    "        if results_dict_fwe[ruledim][net]['P-FWE']<0.05:\n",
    "            ie[ruledim]['sig'].append(float(results_dict_fwe[ruledim][net]['Accuracy']))\n",
    "            t_avg[ruledim]['sig'].append(float(results_dict_fwe[ruledim][net]['T-stats']))\n",
    "            p_avg[ruledim]['sig'].append(float(results_dict_fwe[ruledim][net]['P-FWE']))\n",
    "        else:\n",
    "            ie[ruledim]['nonsig'].append(float(results_dict_fwe[ruledim][net]['Accuracy']))\n",
    "            t_avg[ruledim]['nonsig'].append(float(results_dict_fwe[ruledim][net]['T-stats']))\n",
    "            p_avg[ruledim]['nonsig'].append(float(results_dict_fwe[ruledim][net]['P-FWE']))\n",
    "    \n",
    "    # Read out statistics for manuscript\n",
    "    print 'Average significant IE for', ruledim, ':', np.mean(ie[ruledim]['sig'])\n",
    "    print 'Average significant T-stats for', ruledim, ':', np.mean(t_avg[ruledim]['sig'])\n",
    "    print 'Max significant p-value for', ruledim, ':', np.max(p_avg[ruledim]['sig'])\n",
    "    print '#################'\n",
    "    print 'Average nonsignificant IE for', ruledim, ':', np.mean(ie[ruledim]['nonsig'])\n",
    "    print 'Average nonsignificant T-stats for', ruledim, ':', np.mean(t_avg[ruledim]['nonsig'])\n",
    "    print 'Min nonsignificant p-value for', ruledim, ':', np.min(p_avg[ruledim]['nonsig'])\n",
    "    print '\\n'\n"
   ]
  },
  {
   "cell_type": "code",
   "execution_count": 132,
   "metadata": {
    "collapsed": false,
    "scrolled": true
   },
   "outputs": [
    {
     "data": {
      "image/png": "[encoded data removed]",
      "text/plain": [
       "<matplotlib.figure.Figure at 0x7fcac840ccd0>"
      ]
     },
     "metadata": {},
     "output_type": "display_data"
    }
   ],
   "source": [
    "#### Compute statistics for bar plot\n",
    "bar_avgs = {}\n",
    "bar_sems = {}\n",
    "bar_avg_all = {}\n",
    "t_avgs = {}\n",
    "p_avgs = {}\n",
    "for net in netkeys.keys(): bar_avg_all[net] = np.zeros((len(ruledims),len(subjNums)))\n",
    "\n",
    "rulecount = 0\n",
    "for ruledim in ruledims:\n",
    "    bar_avgs[ruledim] = {}\n",
    "    bar_sems[ruledim] = {}\n",
    "    \n",
    "    for net in netkeys.keys():\n",
    "        bar_avgs[ruledim][net] = np.mean(diff_rho[ruledim][net])\n",
    "        bar_sems[ruledim][net] = np.std(diff_rho[ruledim][net])/np.sqrt(len(subjNums))\n",
    "        bar_avg_all[net][rulecount,:] = diff_rho[ruledim][net]\n",
    "    rulecount += 1\n",
    "        \n",
    "bar_sem_all = {}\n",
    "for net in netkeys.keys():\n",
    "    meanacc = np.mean(bar_avg_all[net],axis=0)\n",
    "    bar_avg_all[net] = np.mean(meanacc)\n",
    "    bar_sem_all[net] = np.std(meanacc)/np.sqrt(len(subjNums))\n",
    "\n",
    "##### Generate figures\n",
    "width=0.25\n",
    "width=.265\n",
    "networks = netkeys.keys()\n",
    "nbars = len(networks)\n",
    "fig = plt.figure()\n",
    "ax = fig.add_subplot(111)\n",
    "rects = {}\n",
    "widthcount = 0\n",
    "colors = ['b','g','r']\n",
    "colorcount = 0\n",
    "for ruledim in ruledims:\n",
    "    rects[ruledim] = ax.bar(np.arange(nbars)+widthcount, bar_avgs[ruledim].values(), width,align='center',\n",
    "                     yerr=bar_sems[ruledim].values(), color=colors[colorcount], error_kw=dict(ecolor='black'))\n",
    "    widthcount += width\n",
    "    colorcount += 1\n",
    "    \n",
    "ax.set_title('Network Information Estimation of CPRO rules (FWE)',\n",
    "             y=1.04, fontsize=16)\n",
    "ax.set_ylabel('Match V. Mismatch Difference (Rho)',fontsize=12)\n",
    "ax.set_xlabel('Rule types by Networks', fontsize=12)\n",
    "ax.set_xticks(np.arange(nbars)+width)\n",
    "ax.set_xticklabels(netkeys.values(),rotation=-45)\n",
    "vmax=0.07\n",
    "ax.set_ylim([0,vmax])\n",
    "\n",
    "plt.legend((rects['logic'], rects['sensory'], rects['motor']),\n",
    "           ('Logic', 'Sensory', 'Motor'), loc=((1.08,.65)))\n",
    "\n",
    "## Add asterisks\n",
    "def autolabel(rects,df,ruledim):\n",
    "    # attach some text labels\n",
    "    netcount = 0\n",
    "    for rect in rects:\n",
    "        height = rect.get_height()\n",
    "        # Decide where to put the asterisk\n",
    "        if height > vmax: \n",
    "            yax = vmax - .005\n",
    "        else:\n",
    "            yax = height + .01\n",
    "            \n",
    "        # Slightly move this asterisk since it's in the way\n",
    "        if ruledim=='sensory' and netkeys[netcount]=='dan': yax -= .0025\n",
    "            \n",
    "        # Retrive q-value and assign asterisk accordingly\n",
    "        q = results_dict_fwe[ruledim][netkeys[netcount]]['P-FWE']\n",
    "        if q > .05: asterisk=''\n",
    "        if q < .05: asterisk='*'\n",
    "        if q < .01: asterisk='**'\n",
    "        if q < .001: asterisk='***'\n",
    "            \n",
    "        # Label bar\n",
    "        ax.text(rect.get_x() + rect.get_width()/2., yax,\n",
    "                asterisk, ha='center', va='bottom', fontsize=8)\n",
    "        # Go to next network\n",
    "        netcount += 1\n",
    "        \n",
    "for ruledim in ruledims:\n",
    "    autolabel(rects[ruledim],results_dframe_fwe[ruledim],ruledim)\n",
    "# autolabel(rects2)\n",
    "\n",
    "plt.tight_layout()\n",
    "# plt.savefig('FigS1a_NetworkRSA_InformationEstimate.pdf')\n"
   ]
  }
 ],
 "metadata": {
  "kernelspec": {
   "display_name": "Python 2",
   "language": "python",
   "name": "python2"
  },
  "language_info": {
   "codemirror_mode": {
    "name": "ipython",
    "version": 2
   },
   "file_extension": ".py",
   "mimetype": "text/x-python",
   "name": "python",
   "nbconvert_exporter": "python",
   "pygments_lexer": "ipython2",
   "version": "2.7.13"
  }
 },
 "nbformat": 4,
 "nbformat_minor": 0
}
