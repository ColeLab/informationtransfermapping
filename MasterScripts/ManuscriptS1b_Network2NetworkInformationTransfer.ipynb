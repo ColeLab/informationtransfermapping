{
 "cells": [
  {
   "cell_type": "markdown",
   "metadata": {},
   "source": [
    "# ManuscriptS1b - Network-to-network information transfer mapping\n",
    "\n",
    "## Analysis for Supplementary Figures 1C-E.\n",
    "\n",
    "\n",
    "## Master code for Ito et al., 2017¶\n",
    "#### Takuya Ito (takuya.ito@rutgers.edu)\n"
   ]
  },
  {
   "cell_type": "code",
   "execution_count": 52,
   "metadata": {
    "collapsed": false
   },
   "outputs": [],
   "source": [
    "import sys\n",
    "sys.path.append('utils/')\n",
    "import numpy as np\n",
    "import loadGlasser as lg\n",
    "import scipy.stats as stats\n",
    "import matplotlib.pyplot as plt\n",
    "import statsmodels.sandbox.stats.multicomp as mc\n",
    "import multiprocessing as mp\n",
    "import multregressionconnectivity as mreg\n",
    "import scripts3_functions as func\n",
    "%matplotlib inline\n",
    "import os\n",
    "os.environ['OMP_NUM_THREADS'] = str(1)\n",
    "import warnings\n",
    "warnings.filterwarnings('ignore')\n",
    "import permutationTesting as pt\n",
    "\n",
    "\n",
    "from matplotlib.colors import Normalize\n",
    "\n",
    "\n",
    "class MidpointNormalize(Normalize):\n",
    "    def __init__(self, vmin=None, vmax=None, midpoint=None, clip=False):\n",
    "        self.midpoint = midpoint\n",
    "        Normalize.__init__(self, vmin, vmax, clip)\n",
    "\n",
    "    def __call__(self, value, clip=None):\n",
    "        # I'm ignoring masked values and all kinds of edge cases to make a\n",
    "        # simple example...\n",
    "        x, y = [self.vmin, self.midpoint, self.vmax], [0, 0.5, 1]\n",
    "        return np.ma.masked_array(np.interp(value, x, y))"
   ]
  },
  {
   "cell_type": "markdown",
   "metadata": {},
   "source": [
    "# 0.0 Basic parameters"
   ]
  },
  {
   "cell_type": "code",
   "execution_count": 53,
   "metadata": {
    "collapsed": true
   },
   "outputs": [],
   "source": [
    "# Set basic parameters\n",
    "basedir = '/projects2/ModalityControl2/'\n",
    "datadir = basedir + 'data/'\n",
    "resultsdir = datadir + 'resultsMaster/'\n",
    "runLength = 4648\n",
    "\n",
    "subjNums = ['032', '033', '037', '038', '039', '045', \n",
    "            '013', '014', '016', '017', '018', '021', \n",
    "            '023', '024', '025', '026', '027', '031', \n",
    "            '035', '046', '042', '028', '048', '053', \n",
    "            '040', '049', '057', '062', '050', '030', '047', '034']\n",
    "\n",
    "glasserparcels = lg.loadGlasserParcels()\n",
    "networkdef = lg.loadGlasserNetworks()\n",
    "\n",
    "\n",
    "networkmappings = {'fpn':7, 'vis':1, 'smn':2, 'con':3, 'dmn':6, 'aud1':8, 'aud2':9, 'dan':11}\n",
    "# Force aud2 key to be the same as aud1 (merging two auditory networks)\n",
    "aud2_ind = np.where(networkdef==networkmappings['aud2'])[0]\n",
    "networkdef[aud2_ind] = networkmappings['aud1']\n",
    "# Define new network mappings with no aud1/aud2 distinction\n",
    "networkmappings = {'fpn':7, 'vis':1, 'smn':2, 'con':3, 'dmn':6, 'aud':8, 'dan':11}"
   ]
  },
  {
   "cell_type": "markdown",
   "metadata": {},
   "source": [
    "# 1.0 Compute network-to-network activity flow mapping"
   ]
  },
  {
   "cell_type": "markdown",
   "metadata": {},
   "source": [
    "## 1.1 Set up basic ActFlow functions"
   ]
  },
  {
   "cell_type": "code",
   "execution_count": 54,
   "metadata": {
    "collapsed": false
   },
   "outputs": [],
   "source": [
    "def computeRestFC(subj):\n",
    "    \"\"\"\n",
    "    Computes the Glasser parcellated restFC of a given subject\n",
    "    \"\"\"\n",
    "    filename = resultsdir + 'glmRest_GlasserParcels/' + subj + '_rest_nuisanceResids_Glasser.csv'\n",
    "    timeseries = np.loadtxt(filename, delimiter=',')\n",
    "    fcmat = mreg.multregressionconnectivity(timeseries)\n",
    "    return fcmat\n",
    "\n",
    "def loadBetas(subj, net='all'):\n",
    "    \"\"\"Loads in task betas\"\"\"\n",
    "    datafile = resultsdir + 'glmMiniblockBetaSeries/' + subj + '_miniblock_taskBetas_Glasser.csv'\n",
    "    betas = np.loadtxt(datafile, delimiter=',')\n",
    "    betas = betas[:,17:]\n",
    "    if net == 'all':\n",
    "        return betas.T\n",
    "    else:\n",
    "        net_ind = np.where(networkdef==net)[0]\n",
    "        return betas[net_ind,:].T\n",
    "    \n",
    "def computeNetworkToNetworkActFlow(subj,fcmat):\n",
    "    \"\"\"\n",
    "    Given a subject number and a resting-state FC Matrix, compute all possible network-to-network ActFlow predictions\n",
    "    \"\"\"\n",
    "    outdir = resultsdir + 'ManuscriptS1_NetworkIEandITE_Analysis/ActFlowNetworkToNetwork/'\n",
    "    betas  = loadBetas(subj, net='all')\n",
    "    \n",
    "    for net1 in networkmappings:\n",
    "        for net2 in networkmappings:\n",
    "            if net1==net2: continue\n",
    "#             print 'ActFlow:', net1, 'to', net2\n",
    "            # Find parcels for net1 and reshape\n",
    "            net1_ind = np.where(networkdef==networkmappings[net1])[0]\n",
    "            net1_ind.shape = (len(net1_ind),1)\n",
    "            # Find parcels for net2 and reshape\n",
    "            net2_ind = np.where(networkdef==networkmappings[net2])[0]\n",
    "            net2_ind.shape = (len(net2_ind),1)\n",
    "            \n",
    "            # Compute betas for net1 and net2\n",
    "            net1beta = np.squeeze(betas[:,net1_ind.T]) # Reformat to miniblocks x parcels\n",
    "            net2beta = np.squeeze(betas[:,net2_ind.T]) # Reformat to miniblocks x parcels\n",
    "            \n",
    "            # Compute FC for net1 to net2\n",
    "            w12 = fcmat[net1_ind,net2_ind.T].copy()\n",
    "            w21 = fcmat[net2_ind,net1_ind.T].copy()\n",
    "            \n",
    "            # Randomize topology\n",
    "#             np.random.shuffle(w12)\n",
    "#             np.random.shuffle(w21)\n",
    "            \n",
    "            # Now perform network-to-network actflow\n",
    "            net1tonet2flow = np.dot(net1beta,w12)\n",
    "            net2tonet1flow = np.dot(net2beta,w21)\n",
    "            \n",
    "            # Save results to disk\n",
    "            filename12 = subj + '_' + net1 + 'TO' + net2 + '_actflow_GlasserParcels.csv'\n",
    "            np.savetxt(outdir + filename12,net1tonet2flow,delimiter=',')\n",
    "            filename21 = subj + '_' + net2 + 'TO' + net1 + '_actflow_GlasserParcels.csv'\n",
    "            np.savetxt(outdir + filename21,net2tonet1flow,delimiter=',')\n",
    "            \n",
    "def ActFlowSubj(subj):\n",
    "    \"\"\"\n",
    "    Parcel-level ActFlow Pipeline\n",
    "    \"\"\"\n",
    "    outdir = resultsdir + '/MultRegConnRestFC_GlasserParcels/'\n",
    "    outfile = subj + '_multregconn_restfc.csv'\n",
    "    fcmat = np.loadtxt(outdir + outfile, delimiter=',')\n",
    "#     fcmat = np.arctanh(fcmat)\n",
    "    computeNetworkToNetworkActFlow(subj,fcmat)"
   ]
  },
  {
   "cell_type": "markdown",
   "metadata": {},
   "source": [
    "## 1.2 Estimate FC using multiple linear regression"
   ]
  },
  {
   "cell_type": "markdown",
   "metadata": {},
   "source": [
    "#### 1.2.1 Run MultRegConnFC (rest) and save to disk since it takes a while"
   ]
  },
  {
   "cell_type": "code",
   "execution_count": 56,
   "metadata": {
    "collapsed": false
   },
   "outputs": [],
   "source": [
    "for subj in subjNums:\n",
    "    print 'Computing MultRegConn FC for subject', subj\n",
    "    fcmat = computeRestFC(subj)\n",
    "    outdir = resultsdir + '/MultRegConnRestFC_GlasserParcels/'\n",
    "    outfile = subj + '_multregconn_restfc.csv'\n",
    "    np.savetxt(outdir + outfile, fcmat, delimiter=',')"
   ]
  },
  {
   "cell_type": "markdown",
   "metadata": {},
   "source": [
    "## 1.3 Run network-to-network activity flow mapping"
   ]
  },
  {
   "cell_type": "code",
   "execution_count": 57,
   "metadata": {
    "collapsed": false
   },
   "outputs": [],
   "source": [
    "for subj in subjNums:\n",
    "#     print 'Running ActFlow on subject', subj\n",
    "    ActFlowSubj(subj)"
   ]
  },
  {
   "cell_type": "markdown",
   "metadata": {},
   "source": [
    "# 2.0 Predicted-to-actual similarity analysis on activity flow predictions"
   ]
  },
  {
   "cell_type": "markdown",
   "metadata": {},
   "source": [
    "## 2.0.1 Set up basic functions for ActFlowStatistics"
   ]
  },
  {
   "cell_type": "code",
   "execution_count": 58,
   "metadata": {
    "collapsed": true
   },
   "outputs": [],
   "source": [
    "def getActFlowActivity(subj, fromnet, tonet):\n",
    "    datadir = resultsdir + 'ManuscriptS1_NetworkIEandITE_Analysis/ActFlowNetworkToNetwork/'\n",
    "    datafile = datadir+subj+'_'+fromnet+'TO'+tonet+'_actflow_GlasserParcels.csv'\n",
    "    activity = np.loadtxt(datafile, delimiter=',')\n",
    "    return activity\n",
    "                       \n",
    "def setUpActFlowMatrix(subj,ruledim,fromnet,tonet):\n",
    "    \"\"\"\n",
    "    Sets up basic SVM matrix for a classification of a particular rule dimension and network for ActFlow\n",
    "    \"\"\"\n",
    "    activity = getActFlowActivity(subj,fromnet,tonet)\n",
    "    rules, rulesmb = func.importRuleTimingsV3(subj,ruledim)\n",
    "    \n",
    "    svm_mat = np.zeros((activity.shape))\n",
    "    samplecount = 0\n",
    "    labels = []\n",
    "    for rule in rulesmb:\n",
    "        rule_ind = rulesmb[rule].keys()\n",
    "        sampleend = samplecount + len(rule_ind)\n",
    "        svm_mat[samplecount:sampleend,:] = activity[rule_ind,:]\n",
    "        labels.extend(np.ones(len(rule_ind),)*rule)\n",
    "        samplecount += len(rule_ind)\n",
    "        \n",
    "    labels = np.asarray(labels)\n",
    "    \n",
    "    return svm_mat, labels\n",
    "    \n",
    "def setUpRSAMatrix(subj,ruledim,net):\n",
    "    \"\"\"\n",
    "    Sets up basic SVM Matrix for a classification of a particular rule dimension and network\n",
    "    \"\"\"\n",
    "    \n",
    "    betas = loadBetas(subj,net=net)\n",
    "    rules, rulesmb = func.importRuleTimingsV3(subj,ruledim)\n",
    "    \n",
    "    svm_mat = np.zeros((betas.shape))\n",
    "    samplecount = 0\n",
    "    labels = []\n",
    "    for rule in rulesmb:\n",
    "        rule_ind = rulesmb[rule].keys()\n",
    "        sampleend = samplecount + len(rule_ind)\n",
    "        svm_mat[samplecount:sampleend,:] = betas[rule_ind,:]\n",
    "        labels.extend(np.ones(len(rule_ind),)*rule)\n",
    "        samplecount += len(rule_ind)\n",
    "        \n",
    "    labels = np.asarray(labels)\n",
    "    \n",
    "    return svm_mat, labels\n",
    "\n"
   ]
  },
  {
   "cell_type": "markdown",
   "metadata": {},
   "source": [
    "## 2.1 Define basic functions for ActFlow RSAs"
   ]
  },
  {
   "cell_type": "code",
   "execution_count": 59,
   "metadata": {
    "collapsed": false
   },
   "outputs": [],
   "source": [
    "def actFlowRSA_CV(rsa_actflow, rsa_real, actflow_labels, real_labels):\n",
    "    \"\"\"\n",
    "    For each unique label (each unique rule), compute the spatial Spearman correlation for each trial \n",
    "    CV Approach: When computing the prototypes of each rule/condition, leave out the trial in the prototype which we are comparing\n",
    "\n",
    "    \"\"\"\n",
    "# #     # Normalize data\n",
    "#     rsa_actflow = preprocessing.scale(rsa_actflow,axis=0)\n",
    "#     rsa_real = preprocessing.scale(rsa_real,axis=0)\n",
    "    \n",
    "    nrules = len(np.unique(actflow_labels))\n",
    "    ncvs = len(real_labels)/nrules \n",
    "\n",
    "    # Set up an array index of every rule\n",
    "    rule_ind = {}\n",
    "    for rule in np.unique(real_labels): \n",
    "        rule_ind[rule] = np.where(actflow_labels==rule)[0]\n",
    "        np.random.shuffle(rule_ind[rule])\n",
    "\n",
    "    # Compare each actflow trial to all prototypes\n",
    "    ntrials = rsa_actflow.shape[0]\n",
    "    rsa_mat = np.zeros((ntrials,nrules))\n",
    "\n",
    "    for cv in range(ncvs):\n",
    "        \n",
    "        # Obtain the *real* prototypes for each of the rules, but leave out the current trial (cv value)\n",
    "        ind_tmp = {}\n",
    "        rules_realprototype = {}\n",
    "        for rule in np.unique(actflow_labels):\n",
    "            ind_tmp[rule] = rule_ind[rule]\n",
    "            ind_tmp[rule] = np.delete(ind_tmp[rule],cv) # Delete the current trial from prototype calculation\n",
    "            \n",
    "            # Average across trials to obtain prototype\n",
    "            rules_realprototype[rule] = np.mean(rsa_real[ind_tmp[rule],:],axis=0) \n",
    "        \n",
    "        # Only run similarity analysis for current CV trial, and compare against prototype in which current CV trial is not included\n",
    "        for rule1 in rule_ind:\n",
    "            for rule2 in rule_ind:\n",
    "                rsa_mat[rule_ind[rule1][cv],rule2-1] = np.arctanh(stats.spearmanr(rsa_actflow[rule_ind[rule1][cv],:],rules_realprototype[rule2])[0])\n",
    "\n",
    "\n",
    "    # Now obtain average RSAs for each pairwise comparison (rsa summary matrix)\n",
    "    rsa_mat_avg = np.zeros((nrules,nrules))\n",
    "    for rule1 in rule_ind:\n",
    "        for rule2 in rule_ind:\n",
    "            rsa_mat_avg[rule1-1,rule2-1] = np.mean(rsa_mat[rule_ind[rule1],rule2-1],axis=0)\n",
    "    \n",
    "    return rsa_mat_avg\n",
    "\n",
    "def subjRSACV((subj,ruledim,fromnet,tonet)):\n",
    "    \n",
    "    realmat, reallabels = setUpRSAMatrix(subj,ruledim,networkmappings[tonet])\n",
    "    actflowmat, actflowlabels = setUpActFlowMatrix(subj,ruledim,fromnet,tonet)\n",
    "    \n",
    "    # Demean each sample real data\n",
    "    realmean = np.mean(realmat,axis=1)\n",
    "    realmean.shape = (len(realmean),1)\n",
    "    realmat = realmat - realmean\n",
    "    # Demean each sample actflow data\n",
    "    actflowmean = np.mean(actflowmat,axis=1)\n",
    "    actflowmean.shape = (len(actflowmean),1)\n",
    "    actflowmat = actflowmat - actflowmean\n",
    "    \n",
    "    rsamat = actFlowRSA_CV(actflowmat, realmat, actflowlabels, reallabels)\n",
    "    # Create a mask to extract out diagonal (correct RSA)\n",
    "    diag_mask = np.zeros((rsamat.shape),dtype=bool)\n",
    "    np.fill_diagonal(diag_mask,True)\n",
    "    # Create a mask to extract ouf off-diagonal (incorrect RSA)\n",
    "    offdiag_mask = np.ones((rsamat.shape),dtype=bool)\n",
    "    np.fill_diagonal(offdiag_mask,False)\n",
    "    corr_rho = np.mean(rsamat[diag_mask])\n",
    "    err_rho = np.mean(rsamat[offdiag_mask])\n",
    "    diff_rho = corr_rho - err_rho\n",
    "    return corr_rho, err_rho, diff_rho\n"
   ]
  },
  {
   "cell_type": "markdown",
   "metadata": {},
   "source": [
    "## 2.2 Run predicted-to-actual similarity (RSA) using multiprocessing"
   ]
  },
  {
   "cell_type": "markdown",
   "metadata": {},
   "source": [
    "##### Keep track of networks to matrix indices"
   ]
  },
  {
   "cell_type": "code",
   "execution_count": 60,
   "metadata": {
    "collapsed": false
   },
   "outputs": [
    {
     "name": "stdout",
     "output_type": "stream",
     "text": [
      "{0: 'vis', 1: 'smn', 2: 'con', 3: 'dmn', 4: 'fpn', 5: 'aud', 6: 'dan'}\n"
     ]
    }
   ],
   "source": [
    "# Remake order to fit that of the glasser community ordering (region-to-region matrix ordering)\n",
    "netkeys = {0:'vis',1:'smn',2:'con',3:'dmn',4:'fpn', 5:'aud', 6:'dan'}\n",
    "print netkeys\n",
    "num_networks=len(netkeys)"
   ]
  },
  {
   "cell_type": "code",
   "execution_count": 61,
   "metadata": {
    "collapsed": false
   },
   "outputs": [
    {
     "name": "stdout",
     "output_type": "stream",
     "text": [
      "Running logic\n",
      "Running sensory\n",
      "Running motor\n"
     ]
    }
   ],
   "source": [
    "baseline = 0.0\n",
    "ruledims = ['logic','sensory','motor']\n",
    "numnets = len(networkmappings)\n",
    "output = {}\n",
    "avg_rho = {}\n",
    "tstats = {}\n",
    "pvals = {}\n",
    "corr_rho = {}\n",
    "err_rho = {}\n",
    "diff_rho ={}\n",
    "for ruledim in ruledims:\n",
    "    output[ruledim] = np.zeros((num_networks,num_networks,len(subjNums)))\n",
    "    avg_rho[ruledim] = np.zeros((num_networks,num_networks))\n",
    "    tstats[ruledim] = np.zeros((num_networks,num_networks))\n",
    "    pvals[ruledim] = np.zeros((num_networks,num_networks))\n",
    "    corr_rho[ruledim] = np.zeros((num_networks,num_networks,len(subjNums)))\n",
    "    err_rho[ruledim] = np.zeros((num_networks,num_networks,len(subjNums)))\n",
    "    diff_rho[ruledim] = np.zeros((num_networks,num_networks,len(subjNums)))\n",
    "    \n",
    "    print 'Running', ruledim\n",
    "    for net1 in range(num_networks):\n",
    "        \n",
    "        for net2 in range(num_networks):\n",
    "            # Skip if net1 and net2\n",
    "            if net1==net2: \n",
    "                avg_rho[ruledim][net1,net2] = np.nan\n",
    "                tstats[ruledim][net1,net2] = np.nan\n",
    "                pvals[ruledim][net1,net2] = np.nan\n",
    "                corr_rho[ruledim][net1,net2] = np.nan\n",
    "                err_rho[ruledim][net1,net2] = np.nan\n",
    "                diff_rho[ruledim][net1,net2] = np.nan\n",
    "                continue\n",
    "            \n",
    "            inputs = []\n",
    "            for subj in subjNums: inputs.append((subj,ruledim,netkeys[net1],netkeys[net2]))\n",
    "            # Run in parallel\n",
    "            pool = mp.Pool(processes=16)\n",
    "            results = pool.map_async(subjRSACV,inputs).get()\n",
    "            pool.close()\n",
    "            pool.join()    \n",
    "            \n",
    "            \n",
    "            i = 0\n",
    "            for result in results:\n",
    "\n",
    "                tmp_corr, tmp_err, tmp_diff = result\n",
    "                corr_rho[ruledim][net1,net2,i] = tmp_corr\n",
    "                err_rho[ruledim][net1,net2,i] = tmp_err\n",
    "                diff_rho[ruledim][net1,net2,i] = tmp_diff\n",
    "                i += 1\n",
    "                \n",
    "            # Store results\n",
    "            avg_rho[ruledim][net1,net2] = np.mean(diff_rho[ruledim][net1,net2,:])\n",
    "            output[ruledim][net1,net2,:] = diff_rho[ruledim][net1,net2,:]\n",
    "            t, p = stats.ttest_rel(corr_rho[ruledim][net1,net2,:],\n",
    "                                                err_rho[ruledim][net1,net2,:])\n",
    "            # One-sided t-test\n",
    "            tstats[ruledim][net1,net2] = t\n",
    "            if t>0:\n",
    "                p=p/2.0\n",
    "            else:\n",
    "                p = 1-p/2.0\n",
    "            pvals[ruledim][net1,net2] = p\n",
    "            \n",
    "                "
   ]
  },
  {
   "cell_type": "markdown",
   "metadata": {},
   "source": [
    "## 2.3 Compute group statistics"
   ]
  },
  {
   "cell_type": "code",
   "execution_count": 62,
   "metadata": {
    "collapsed": false
   },
   "outputs": [],
   "source": [
    "# Compute group stats\n",
    "baseline = 0.0\n",
    "triu_indices = np.triu_indices(len(networkmappings),k=1)\n",
    "tril_indices = np.tril_indices(len(networkmappings),k=-1)\n",
    "\n",
    "qmat = {}\n",
    "sigflow = {}\n",
    "sig_rho = {}\n",
    "tstat_sig = {}\n",
    "for ruledim in ruledims:\n",
    "\n",
    "    \n",
    "    qmat[ruledim] = np.zeros((num_networks,num_networks))\n",
    "    sigflow[ruledim] = np.zeros((num_networks,num_networks))\n",
    "    sig_rho[ruledim] = np.zeros((num_networks,num_networks))\n",
    "    tstat_sig[ruledim] = np.zeros((num_networks,num_networks))\n",
    "    \n",
    "    tmpq = []\n",
    "    tmpq.extend(pvals[ruledim][triu_indices])\n",
    "    tmpq.extend(pvals[ruledim][tril_indices])\n",
    "    tmpq = mc.fdrcorrection0(tmpq)[1]\n",
    "    qmat[ruledim][triu_indices] = tmpq[0:len(triu_indices[0])]\n",
    "    qmat[ruledim][tril_indices] = tmpq[len(triu_indices[0]):]\n",
    "    # Find significant values only\n",
    "    sigflow[ruledim] = qmat[ruledim] < 0.05\n",
    "    sig_rho[ruledim] = np.multiply(avg_rho[ruledim], sigflow[ruledim])\n",
    "    tstat_sig[ruledim] = np.multiply(tstats[ruledim], sigflow[ruledim])\n"
   ]
  },
  {
   "cell_type": "markdown",
   "metadata": {},
   "source": [
    "## 2.4 Plot results"
   ]
  },
  {
   "cell_type": "code",
   "execution_count": 63,
   "metadata": {
    "collapsed": false,
    "scrolled": false
   },
   "outputs": [
    {
     "data": {
      "image/png": "[encoded data removed]",
      "text/plain": [
       "<matplotlib.figure.Figure at 0x7f3254e043d0>"
      ]
     },
     "metadata": {},
     "output_type": "display_data"
    },
    {
     "data": {
      "image/png": "[encoded data removed]",
      "text/plain": [
       "<matplotlib.figure.Figure at 0x7f32548e2510>"
      ]
     },
     "metadata": {},
     "output_type": "display_data"
    },
    {
     "data": {
      "image/png": "[encoded data removed]",
      "text/plain": [
       "<matplotlib.figure.Figure at 0x7f3254e91410>"
      ]
     },
     "metadata": {},
     "output_type": "display_data"
    }
   ],
   "source": [
    "for ruledim in ruledims:\n",
    "    fig = plt.figure()\n",
    "    plt.title('NetworkToNetwork InformationTransfer\\n' + ruledim + ' (FDR)', fontsize=18, y=1.04)\n",
    "    mat = tstat_sig[ruledim]\n",
    "    np.fill_diagonal(mat,0)\n",
    "    norm = MidpointNormalize(midpoint=0)\n",
    "    plt.imshow(mat, origin='lower',norm=norm, vmin=0, cmap='seismic', interpolation='none')\n",
    "    plt.xticks(netkeys.keys(),netkeys.values())\n",
    "    plt.yticks(netkeys.keys(),netkeys.values())\n",
    "    plt.ylabel('Source Network',fontsize=16)\n",
    "    plt.xlabel('Target Network',fontsize=16)\n",
    "    plt.tight_layout()\n",
    "    plt.colorbar()\n",
    "#     plt.savefig('SFig1_NetworkToNetworkInformationTransfer_' + ruledim + '.pdf')\n"
   ]
  },
  {
   "cell_type": "markdown",
   "metadata": {},
   "source": [
    "# 3.0 Compute significance using FWE correction"
   ]
  },
  {
   "cell_type": "markdown",
   "metadata": {},
   "source": [
    "## 3.1 Compute group statistics"
   ]
  },
  {
   "cell_type": "code",
   "execution_count": 69,
   "metadata": {
    "collapsed": false
   },
   "outputs": [],
   "source": [
    "fwe_Ts = np.zeros((len(networkmappings),len(networkmappings),len(ruledims)))\n",
    "fwe_Ps = np.ones((len(networkmappings),len(networkmappings),len(ruledims)))\n",
    "\n",
    "    \n",
    "indices = np.ones((len(networkmappings),len(networkmappings)))\n",
    "np.fill_diagonal(indices,0)\n",
    "flatten_ind = np.where(indices==1)\n",
    "    \n",
    "rulecount = 0\n",
    "for ruledim in ruledims:\n",
    "    t, p = pt.permutationFWE(diff_rho[ruledim][flatten_ind[0],flatten_ind[1],:], permutations=1000, nproc=15)\n",
    "    fwe_Ts[flatten_ind[0],flatten_ind[1],rulecount] = t\n",
    "    fwe_Ps[flatten_ind[0],flatten_ind[1],rulecount] = 1.0 - p\n",
    "    \n",
    "    rulecount += 1"
   ]
  },
  {
   "cell_type": "code",
   "execution_count": 70,
   "metadata": {
    "collapsed": false
   },
   "outputs": [
    {
     "name": "stdout",
     "output_type": "stream",
     "text": [
      "logic results\n",
      "Average significant ITE effect = 0.00863840691587\n",
      "Average significant T-stat = 4.72892244337\n",
      "Maximum significant Pfwe = 0.015\n",
      "\n",
      "\n",
      "Average non-significant ITE effect = 0.00139893089882\n",
      "Average non-significant T-stat = 0.997202974496\n",
      "Minimum non-significant Pfwe = 0.109\n",
      "\n",
      "\n",
      "\n",
      "sensory results\n",
      "Average significant ITE effect = 0.00613530901641\n",
      "Average significant T-stat = 4.00949241597\n",
      "Maximum significant Pfwe = 0.046\n",
      "\n",
      "\n",
      "Average non-significant ITE effect = 0.000773893243119\n",
      "Average non-significant T-stat = 0.683210812105\n",
      "Minimum non-significant Pfwe = 0.107\n",
      "\n",
      "\n",
      "\n",
      "motor results\n",
      "Average significant ITE effect = 0.0106989478558\n",
      "Average significant T-stat = 5.36757882387\n",
      "Maximum significant Pfwe = 0.001\n",
      "\n",
      "\n",
      "Average non-significant ITE effect = 0.000891599875751\n",
      "Average non-significant T-stat = 0.774377879108\n",
      "Minimum non-significant Pfwe = 0.355\n",
      "\n",
      "\n",
      "\n"
     ]
    },
    {
     "data": {
      "image/png": "[encoded data removed]",
      "text/plain": [
       "<matplotlib.figure.Figure at 0x7f3254efc310>"
      ]
     },
     "metadata": {},
     "output_type": "display_data"
    },
    {
     "data": {
      "image/png": "[encoded data removed]",
      "text/plain": [
       "<matplotlib.figure.Figure at 0x7f3254ed3150>"
      ]
     },
     "metadata": {},
     "output_type": "display_data"
    },
    {
     "data": {
      "image/png": "[encoded data removed]",
      "text/plain": [
       "<matplotlib.figure.Figure at 0x7f32545d5210>"
      ]
     },
     "metadata": {},
     "output_type": "display_data"
    }
   ],
   "source": [
    "pthresh = .05\n",
    "\n",
    "# Visualize FWER-corrected T-statistic map\n",
    "rulecount = 0\n",
    "for ruledim in ruledims:\n",
    "    \n",
    "    # Thresholded T-stat map\n",
    "    plt.figure()\n",
    "    # First visualize unthresholded\n",
    "    mat = fwe_Ts[:,:,rulecount]\n",
    "    thresh = fwe_Ps[:,:,rulecount] < pthresh\n",
    "    mat = np.multiply(mat,thresh)\n",
    "    ind = np.isnan(mat)\n",
    "    mat[ind]=0\n",
    "    pos = mat > 0\n",
    "    mat = np.multiply(pos,mat)\n",
    "    norm = MidpointNormalize(midpoint=0)\n",
    "    plt.imshow(mat,origin='lower',norm=norm,vmin = 0,interpolation='none',cmap='seismic')\n",
    "    plt.colorbar(fraction=0.046)\n",
    "    plt.title('NetworkToNetwork InformationTransfer\\n' + ruledim + ' (FWE)', fontsize=18, y=1.04)\n",
    "    plt.xticks(netkeys.keys(),netkeys.values())\n",
    "    plt.yticks(netkeys.keys(),netkeys.values())\n",
    "    plt.ylabel('Source Network',fontsize=16)\n",
    "    plt.xlabel('Target Network',fontsize=16)\n",
    "    plt.tight_layout()\n",
    "#     plt.savefig('SFig1_NetworkToNetworkInformationTransfer_' + ruledim + '_FWER.pdf')\n",
    "\n",
    "    \n",
    "    # Print out statistics for manuscript\n",
    "    sig_ind = thresh\n",
    "    nonsig_ind = thresh==False\n",
    "    np.fill_diagonal(nonsig_ind,False) # Make sure diagonal is not included\n",
    "    \n",
    "    print ruledim, 'results'\n",
    "    print 'Average significant ITE effect =', np.mean(avg_rho[ruledim][sig_ind])\n",
    "    print 'Average significant T-stat =', np.mean(fwe_Ts[:,:,rulecount][sig_ind])\n",
    "    print 'Maximum significant Pfwe =', np.max(fwe_Ps[:,:,rulecount][sig_ind])\n",
    "    print '\\n'\n",
    "    print 'Average non-significant ITE effect =', np.mean(avg_rho[ruledim][nonsig_ind])\n",
    "    print 'Average non-significant T-stat =', np.mean(fwe_Ts[:,:,rulecount][nonsig_ind])\n",
    "    print 'Minimum non-significant Pfwe =', np.min(fwe_Ps[:,:,rulecount][nonsig_ind])\n",
    "    print '\\n\\n'\n",
    "    \n",
    "    rulecount += 1"
   ]
  },
  {
   "cell_type": "code",
   "execution_count": null,
   "metadata": {
    "collapsed": true
   },
   "outputs": [],
   "source": []
  }
 ],
 "metadata": {
  "kernelspec": {
   "display_name": "Python 2",
   "language": "python",
   "name": "python2"
  },
  "language_info": {
   "codemirror_mode": {
    "name": "ipython",
    "version": 2
   },
   "file_extension": ".py",
   "mimetype": "text/x-python",
   "name": "python",
   "nbconvert_exporter": "python",
   "pygments_lexer": "ipython2",
   "version": "2.7.13"
  }
 },
 "nbformat": 4,
 "nbformat_minor": 0
}
