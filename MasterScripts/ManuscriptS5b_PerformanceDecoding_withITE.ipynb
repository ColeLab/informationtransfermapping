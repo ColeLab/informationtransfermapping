{
 "cells": [
  {
   "cell_type": "markdown",
   "metadata": {},
   "source": [
    "# ManuscriptS5b - Predicting task performance using information transfer estimates\n",
    "\n",
    "## Analysis for Supplementary Figure 5\n",
    "\n",
    "\n",
    "## Master code for Ito et al., 2017¶\n",
    "#### Takuya Ito (takuya.ito@rutgers.edu)\n",
    "\n"
   ]
  },
  {
   "cell_type": "code",
   "execution_count": 2,
   "metadata": {
    "collapsed": false
   },
   "outputs": [],
   "source": [
    "import sys\n",
    "import os\n",
    "sys.path.append('utils/')\n",
    "import numpy as np\n",
    "import loadGlasser as lg\n",
    "import scipy.stats as stats\n",
    "import matplotlib.pyplot as plt\n",
    "import statsmodels.sandbox.stats.multicomp as mc\n",
    "import sys\n",
    "import multiprocessing as mp\n",
    "import warnings\n",
    "warnings.filterwarnings('ignore')\n",
    "%matplotlib inline\n",
    "\n",
    "import nibabel as nib\n",
    "os.environ['OMP_NUM_THREADS'] = str(1)\n",
    "\n",
    "from matplotlib.colors import Normalize\n",
    "from matplotlib.colors import LogNorm\n",
    "\n",
    "\n",
    "\n",
    "class MidpointNormalize(Normalize):\n",
    "    def __init__(self, vmin=None, vmax=None, midpoint=None, clip=False):\n",
    "        self.midpoint = midpoint\n",
    "        Normalize.__init__(self, vmin, vmax, clip)\n",
    "\n",
    "    def __call__(self, value, clip=None):\n",
    "        # I'm ignoring masked values and all kinds of edge cases to make a\n",
    "        # simple example...\n",
    "        x, y = [self.vmin, self.midpoint, self.vmax], [0, 0.5, 1]\n",
    "        return np.ma.masked_array(np.interp(value, x, y))\n",
    "    \n",
    "class MidpointNormalize2(Normalize):\n",
    "    def __init__(self, vmin=None, vmax=None, midpoint=None, clip=False):\n",
    "        self.midpoint = midpoint\n",
    "        Normalize.__init__(self, vmin, vmax, clip)\n",
    "\n",
    "    def __call__(self, value, clip=None):\n",
    "        # I'm ignoring masked values and all kinds of edge cases to make a\n",
    "        # simple example...\n",
    "        t1 = (self.midpoint - self.vmin)/2.0\n",
    "        t2 = (self.vmax - self.midpoint)/30.0 + self.midpoint\n",
    "        x, y = [self.vmin, t1, self.midpoint, t2, self.vmax], [0, 0.25, .5, .75, 1.0]\n",
    "        return np.ma.masked_array(np.interp(value, x, y))"
   ]
  },
  {
   "cell_type": "markdown",
   "metadata": {},
   "source": [
    "# 0.0 Basic parameters"
   ]
  },
  {
   "cell_type": "code",
   "execution_count": 3,
   "metadata": {
    "collapsed": false
   },
   "outputs": [
    {
     "name": "stderr",
     "output_type": "stream",
     "text": [
      "pixdim[1,2,3] should be non-zero; setting 0 dims to 1\n"
     ]
    }
   ],
   "source": [
    "# Set basic parameters\n",
    "basedir = '/projects2/ModalityControl2/'\n",
    "datadir = basedir + 'data/'\n",
    "resultsdir = datadir + 'resultsMaster/'\n",
    "runLength = 4648\n",
    "\n",
    "subjNums = ['032', '033', '037', '038', '039', '045', \n",
    "            '013', '014', '016', '017', '018', '021', \n",
    "            '023', '024', '025', '026', '027', '031', \n",
    "            '035', '046', '042', '028', '048', '053', \n",
    "            '040', '049', '057', '062', '050', '030', '047', '034']\n",
    "\n",
    "glasserparcels = lg.loadGlasserParcels()\n",
    "networkdef = lg.loadGlasserNetworks()\n",
    "\n",
    "\n",
    "networkmappings = {'fpn':7, 'vis':1, 'smn':2, 'con':3, 'dmn':6, 'aud1':8, 'aud2':9, 'dan':11}\n",
    "# Force aud2 key to be the same as aud1\n",
    "aud2_ind = np.where(networkdef==networkmappings['aud2'])[0]\n",
    "networkdef[aud2_ind] = networkmappings['aud1']\n",
    "# Define new network mappings with no aud1/aud2 distinction\n",
    "networkmappings = {'fpn':7, 'vis':1, 'smn':2, 'con':3, 'dmn':6, 'aud':8, 'dan':11,\n",
    "                   'prem':5, 'pcc':10, 'none':12, 'hipp':13, 'pmulti':14}\n",
    "netkeys = {0:'fpn', 1:'dan', 2:'con', 3:'dmn', 4:'vis', 5:'aud', 6:'smn'}\n",
    "\n",
    "nParcels = 360\n",
    "\n",
    "# Import network reordering\n",
    "networkdir = '/projects/AnalysisTools/netpartitions/ColeLabNetPartition_v1/'\n",
    "networkorder = np.asarray(sorted(range(len(networkdef)), key=lambda k: networkdef[k]))\n",
    "order = networkorder\n",
    "order.shape = (len(networkorder),1)\n",
    "\n",
    "# Construct xticklabels and xticks for plotting figures\n",
    "networks = networkmappings.keys()\n",
    "xticks = {}\n",
    "reorderednetworkaffil = networkdef[order]\n",
    "for net in networks:\n",
    "    netNum = networkmappings[net]\n",
    "    netind = np.where(reorderednetworkaffil==netNum)[0]\n",
    "    tick = np.max(netind)\n",
    "    xticks[tick] = net\n",
    "    \n",
    "# Load in Glasser parcels in their native format\n",
    "glasserfile2 = '/projects/AnalysisTools/ParcelsGlasser2016/archive/Q1-Q6_RelatedParcellation210.LR.CorticalAreas_dil_Colors.32k_fs_LR.dlabel.nii'\n",
    "glasser2 = nib.load('/projects/AnalysisTools/ParcelsGlasser2016/archive/Q1-Q6_RelatedParcellation210.LR.CorticalAreas_dil_Colors.32k_fs_LR.dlabel.nii')\n",
    "glasser2 = glasser2.get_data()\n",
    "glasser2 = glasser2[0][0][0][0][0]\n",
    "\n",
    "\n",
    "def convertCSVToCIFTI64k(inputfilename,outputfilename):\n",
    "    ciftitemplate = glasserfile2\n",
    "    wb_command = 'wb_command -cifti-convert -from-text' \n",
    "    wb_command += ' ' + inputfilename \n",
    "    wb_command += ' ' + ciftitemplate\n",
    "    wb_command += ' ' + outputfilename\n",
    "    wb_command += \" -col-delim ','\"\n",
    "    wb_command += ' -reset-scalars'\n",
    "    os.system(wb_command)\n",
    "#     print wb_command"
   ]
  },
  {
   "cell_type": "markdown",
   "metadata": {},
   "source": [
    "## 0.1 Load in behavioral data (performance + RT)"
   ]
  },
  {
   "cell_type": "code",
   "execution_count": 3,
   "metadata": {
    "collapsed": true
   },
   "outputs": [],
   "source": [
    "behavdata = {}\n",
    "for subj in subjNums:\n",
    "    behavdata[subj] = {}\n",
    "    behavdir = basedir + 'data/resultsMaster/behavresults/'\n",
    "    behavdata[subj]['acc'] = np.loadtxt(behavdir + subj + '_accuracy.csv',dtype='str',delimiter=',')\n",
    "    behavdata[subj]['rt'] = np.loadtxt(behavdir + subj + '_RT.csv')"
   ]
  },
  {
   "cell_type": "markdown",
   "metadata": {},
   "source": [
    "#### Write out miniblock-by-miniblock accuracy performance for within-subject region-to-region logistic regression with information transfer estimates (for revision)"
   ]
  },
  {
   "cell_type": "code",
   "execution_count": 4,
   "metadata": {
    "collapsed": false
   },
   "outputs": [],
   "source": [
    "n_mbs = 128\n",
    "ntrialspermb = 3\n",
    "for subj in subjNums:\n",
    "    filename = basedir + 'data/resultsMaster/behavresults/' + subj+'_acc_by_mb.txt'\n",
    "    tmp = behavdata[subj]['acc']=='Correct'\n",
    "    tmp = tmp.astype(int)\n",
    "    mb_tmp = []\n",
    "    count = 0\n",
    "    for mb in range(n_mbs):\n",
    "        mb_tmp.append(np.mean(tmp[count:(count+ntrialspermb)]))\n",
    "        count += ntrialspermb\n",
    "    mb_tmp = np.asarray(mb_tmp)\n",
    "    np.savetxt(filename, mb_tmp)"
   ]
  },
  {
   "cell_type": "markdown",
   "metadata": {},
   "source": [
    "#### Do the same for RT"
   ]
  },
  {
   "cell_type": "code",
   "execution_count": 5,
   "metadata": {
    "collapsed": true
   },
   "outputs": [],
   "source": [
    "n_mbs = 128\n",
    "ntrialspermb = 3\n",
    "for subj in subjNums:\n",
    "    filename = '/projects2/ModalityControl2/data/resultsMaster/behavresults/' + subj+'_rt_by_mb.txt'\n",
    "    tmp = behavdata[subj]['rt']\n",
    "    mb_tmp = []\n",
    "    count = 0\n",
    "    for mb in range(n_mbs):\n",
    "        mb_tmp.append(np.mean(tmp[count:(count+ntrialspermb)]))\n",
    "        count += ntrialspermb\n",
    "    mb_tmp = np.asarray(mb_tmp)\n",
    "    np.savetxt(filename, mb_tmp)"
   ]
  },
  {
   "cell_type": "markdown",
   "metadata": {},
   "source": [
    "## 0.2 Verify normality of behavioral data"
   ]
  },
  {
   "cell_type": "code",
   "execution_count": 6,
   "metadata": {
    "collapsed": false
   },
   "outputs": [
    {
     "data": {
      "text/plain": [
       "<matplotlib.text.Text at 0x7ff00c2b9ad0>"
      ]
     },
     "execution_count": 6,
     "metadata": {},
     "output_type": "execute_result"
    },
    {
     "data": {
      "image/png": "[encoded data removed]",
      "text/plain": [
       "<matplotlib.figure.Figure at 0x7ff00f6d52d0>"
      ]
     },
     "metadata": {},
     "output_type": "display_data"
    },
    {
     "data": {
      "image/png": "[encoded data removed]",
      "text/plain": [
       "<matplotlib.figure.Figure at 0x7ff058165290>"
      ]
     },
     "metadata": {},
     "output_type": "display_data"
    }
   ],
   "source": [
    "acc = []\n",
    "rt = []\n",
    "for subj in subjNums:\n",
    "    acc.append(np.mean(behavdata[subj]['acc']=='Correct'))\n",
    "    rt.append(np.mean(behavdata[subj]['rt']))\n",
    "    \n",
    "plt.figure()\n",
    "plt.hist(acc)\n",
    "plt.title('Distribution of accuracies across 32 subjects\\nNormalTest p = '+str(stats.normaltest(acc)[1]),\n",
    "          y=1.04,fontsize=16)\n",
    "plt.xlabel('Avg Accuracy Per Subj')\n",
    "plt.ylabel('# in bin')\n",
    "\n",
    "plt.figure()\n",
    "plt.hist(rt,bins=10)\n",
    "plt.title('Distribution of RTs across 32 subjects\\nNormalTest p = '+str(stats.normaltest(rt)[1]),\n",
    "          y=1.04,fontsize=16)\n",
    "plt.xlabel('Avg RT per Subj')\n",
    "plt.ylabel('RT')"
   ]
  },
  {
   "cell_type": "markdown",
   "metadata": {},
   "source": [
    "# 1.0 Run Information transfer mapping\n",
    "\n",
    "##### Due to obvious computational constraints, all region-to-region ActFlow procedures and RSA analyses were run on NM3 \n",
    "#### Code: ./SupercomputerScripts/Fig6_RegionToRegionInformationTransferMapping/ActFlow_ITE_DecodePerformance_LogRegression_v2.m\n"
   ]
  },
  {
   "cell_type": "markdown",
   "metadata": {},
   "source": [
    "# 2.0 Identify information transfers that are correlated with behavior"
   ]
  },
  {
   "cell_type": "markdown",
   "metadata": {},
   "source": [
    "#### Load in logistic regression betas"
   ]
  },
  {
   "cell_type": "code",
   "execution_count": 7,
   "metadata": {
    "collapsed": false
   },
   "outputs": [],
   "source": [
    "## Load in NM3 Data\n",
    "datadir = '/projects2/ModalityControl2/data/resultsMaster/Manuscript6andS2and7_RegionToRegionITE/'\n",
    "# Load in RSA matrices\n",
    "logitBetas= np.zeros((nParcels,nParcels,len(subjNums)))\n",
    "scount = 0\n",
    "for subj in subjNums:\n",
    "    filename = datadir +subj+'_RegionToRegionActFlowGlasserParcels_BehavioralAcc.csv'\n",
    "    logitBetas[:,:,scount] = np.loadtxt(filename, delimiter=',')\n",
    "    scount += 1"
   ]
  },
  {
   "cell_type": "markdown",
   "metadata": {},
   "source": [
    "#### Perform group statistics\n"
   ]
  },
  {
   "cell_type": "code",
   "execution_count": 8,
   "metadata": {
    "collapsed": false
   },
   "outputs": [],
   "source": [
    "df_stats = {}\n",
    "df_stats['logit_t'] = np.zeros((nParcels,nParcels))\n",
    "df_stats['logit_p'] = np.ones((nParcels,nParcels))\n",
    "df_stats['logit_q'] = np.ones((nParcels,nParcels))\n",
    "df_stats['logit_avg'] = np.mean(logitBetas,axis=2)\n",
    "for i in range(nParcels):\n",
    "    for j in range(nParcels):\n",
    "        if i==j: continue\n",
    "        t, p = stats.ttest_1samp(logitBetas[i,j,:],.5)\n",
    "        if t > 0:\n",
    "            p = p/2.0\n",
    "        else:\n",
    "            p = 1.0 - p/2.0\n",
    "        df_stats['logit_t'][i,j] = t\n",
    "        df_stats['logit_p'][i,j] = p\n"
   ]
  },
  {
   "cell_type": "code",
   "execution_count": 9,
   "metadata": {
    "collapsed": false
   },
   "outputs": [
    {
     "name": "stdout",
     "output_type": "stream",
     "text": [
      "Significant transfers predicted of performance:\n",
      "Transfers from 260 to 271\n",
      "Effect size = 0.532225625\n",
      "p = 2.10645113216e-05\n",
      "q = 0.00200112857555\n"
     ]
    }
   ],
   "source": [
    "roi = 260\n",
    "# indices = np.where((networkdef==networkmappings['fpn']) | (networkdef==networkmappings['con']))[0]\n",
    "# # indices = np.where(networkdef==networkmappings['con'])[0]\n",
    "fpn_ind = np.where(networkdef==networkmappings['fpn'])[0]\n",
    "fpn_ind.shape = (len(fpn_ind),1)\n",
    "con_ind = np.where(networkdef==networkmappings['con'])[0]\n",
    "con_ind.shape = (len(con_ind),1)\n",
    "# indices = np.arange(nParcels)\n",
    "mat = np.zeros((nParcels,nParcels))\n",
    "\n",
    "# mat[260,:] = 1\n",
    "# mat[:,260] = 1\n",
    "mat[260,fpn_ind.T] = 1\n",
    "mat[260,con_ind.T] = 1\n",
    "# mat[fpn_ind,con_ind.T] = 1\n",
    "# mat[fpn_ind,fpn_ind.T] = 1\n",
    "# mat[con_ind,con_ind.T] = 1\n",
    "# mat[con_ind,fpn_ind.T] = 1\n",
    "# mat = np.ones((nParcels,nParcels))\n",
    "# mat[:,roi] = 1\n",
    "np.fill_diagonal(mat,0)\n",
    "indices = np.where(mat==1)\n",
    "\n",
    "# Perform multiple comparisons\n",
    "#     df_stats['logit_q'][sig_ind] = mc.fdrcorrection0(df_stats['logit_p'][sig_ind])[1]\n",
    "df_stats['logit_q'] = np.ones((nParcels,nParcels))\n",
    "df_stats['logit_q'][indices] = mc.fdrcorrection0(df_stats['logit_p'][indices])[1]\n",
    "\n",
    "ind = np.where(df_stats['logit_q']<0.05)\n",
    "print 'Significant transfers predicted of performance:'\n",
    "count = 0\n",
    "for i in range(len(ind[0])):\n",
    "    print 'Transfers from', ind[0][count], 'to', ind[1][count]\n",
    "    print 'Effect size =', df_stats['logit_avg'][ind[0][count],ind[1][count]]\n",
    "    print 'p =', df_stats['logit_p'][ind[0][count],ind[1][count]]\n",
    "    print 'q =', df_stats['logit_q'][ind[0][count],ind[1][count]]\n",
    "    count += 1"
   ]
  },
  {
   "cell_type": "markdown",
   "metadata": {},
   "source": [
    "___"
   ]
  },
  {
   "cell_type": "markdown",
   "metadata": {},
   "source": [
    "# FWE correction on results\n",
    "#### Perform group statistics\n"
   ]
  },
  {
   "cell_type": "code",
   "execution_count": 12,
   "metadata": {
    "collapsed": false
   },
   "outputs": [],
   "source": [
    "df_stats = {}\n",
    "df_stats['logit_t'] = np.zeros((nParcels,nParcels))\n",
    "df_stats['logit_p'] = np.ones((nParcels,nParcels))\n",
    "df_stats['logit_q'] = np.ones((nParcels,nParcels))\n",
    "df_stats['logit_avg'] = np.mean(logitBetas,axis=2)\n",
    "for i in range(nParcels):\n",
    "    for j in range(nParcels):\n",
    "        if i==j: continue\n",
    "        t, p = stats.ttest_1samp(logitBetas[i,j,:],.5)\n",
    "        if t > 0:\n",
    "            p = p/2.0\n",
    "        else:\n",
    "            p = 1.0 - p/2.0\n",
    "        df_stats['logit_t'][i,j] = t\n",
    "        df_stats['logit_p'][i,j] = p\n"
   ]
  },
  {
   "cell_type": "code",
   "execution_count": 14,
   "metadata": {
    "collapsed": false
   },
   "outputs": [
    {
     "name": "stdout",
     "output_type": "stream",
     "text": [
      "Significant transfers predictive of performance:\n",
      "Transfers from 260 to 271\n",
      "Effect size = 0.532225625\n",
      "T-statistic = 4.76458294182\n",
      "p (FWE) = 0.0\n"
     ]
    }
   ],
   "source": [
    "roi = 260\n",
    "# indices = np.where((networkdef==networkmappings['fpn']) | (networkdef==networkmappings['con']))[0]\n",
    "# # indices = np.where(networkdef==networkmappings['con'])[0]\n",
    "fpn_ind = np.where(networkdef==networkmappings['fpn'])[0]\n",
    "fpn_ind.shape = (len(fpn_ind),1)\n",
    "con_ind = np.where(networkdef==networkmappings['con'])[0]\n",
    "con_ind.shape = (len(con_ind),1)\n",
    "# indices = np.arange(nParcels)\n",
    "mat = np.zeros((nParcels,nParcels))\n",
    "\n",
    "# mat[260,:] = 1\n",
    "# mat[:,260] = 1\n",
    "mat[260,fpn_ind.T] = 1\n",
    "mat[260,con_ind.T] = 1\n",
    "# mat[fpn_ind,con_ind.T] = 1\n",
    "# mat[fpn_ind,fpn_ind.T] = 1\n",
    "# mat[con_ind,con_ind.T] = 1\n",
    "# mat[con_ind,fpn_ind.T] = 1\n",
    "# mat = np.ones((nParcels,nParcels))\n",
    "# mat[:,roi] = 1\n",
    "np.fill_diagonal(mat,0)\n",
    "indices = np.where(mat==1)\n",
    "\n",
    "# Permutation testing\n",
    "import permutationTesting as pt\n",
    "chance = .5\n",
    "tmp = logitBetas - chance # Subtract decoding accuracies by chance\n",
    "t, p = pt.permutationFWE(tmp[indices[0],indices[1],:], permutations=1000, nproc=15)\n",
    "pfwe = np.zeros((nParcels,nParcels))\n",
    "tfwe = np.zeros((nParcels,nParcels))\n",
    "pfwe[indices] = p\n",
    "tfwe[indices] = t\n",
    "\n",
    "ind = np.where(pfwe>0.95)\n",
    "print 'Significant transfers predictive of performance:'\n",
    "count = 0\n",
    "for i in range(len(ind[0])):\n",
    "    print 'Transfers from', ind[0][count], 'to', ind[1][count]\n",
    "    print 'Effect size =', df_stats['logit_avg'][ind[0][count],ind[1][count]]\n",
    "    print 'T-statistic =', tfwe[ind[0][count],ind[1][count]]\n",
    "    print 'p (FWE) =', 1.0 - pfwe[ind[0][count],ind[1][count]]\n",
    "    count += 1"
   ]
  },
  {
   "cell_type": "markdown",
   "metadata": {},
   "source": [
    "___"
   ]
  }
 ],
 "metadata": {
  "kernelspec": {
   "display_name": "Python 2",
   "language": "python",
   "name": "python2"
  },
  "language_info": {
   "codemirror_mode": {
    "name": "ipython",
    "version": 2
   },
   "file_extension": ".py",
   "mimetype": "text/x-python",
   "name": "python",
   "nbconvert_exporter": "python",
   "pygments_lexer": "ipython2",
   "version": "2.7.13"
  }
 },
 "nbformat": 4,
 "nbformat_minor": 0
}
